{
 "cells": [
  {
   "cell_type": "code",
   "execution_count": 1,
   "metadata": {},
   "outputs": [],
   "source": [
    "import os\n",
    "import subprocess"
   ]
  },
  {
   "cell_type": "code",
   "execution_count": 2,
   "metadata": {},
   "outputs": [
    {
     "name": "stdout",
     "output_type": "stream",
     "text": [
      "Creating virtual environment...\n",
      "Initializing Git repository...\n",
      "✅ Project setup complete!\n"
     ]
    }
   ],
   "source": [
    "# Define project structure\n",
    "folders = [\n",
    "    \"src\",          # Source code\n",
    "    \"tests\",        # Unit tests\n",
    "    \"data\",         # Data storage\n",
    "    \"notebooks\",    # Jupyter notebooks\n",
    "    \"docs\",         # Documentation\n",
    "]\n",
    "\n",
    "files = {\n",
    "    \"README.md\": \"# Project Title\\n\\nThis is an auto-generated README file.\",\n",
    "    \"requirements.txt\": \"\",\n",
    "    \".gitignore\": \"venv/\\n__pycache__/\\n*.pyc\\n.DS_Store\\n\",\n",
    "    \"src/__init__.py\": \"\",\n",
    "    \"src/main.py\": \"if __name__ == '__main__':\\n    print('Hello, World!')\"\n",
    "}\n",
    "\n",
    "# Create folders\n",
    "for folder in folders:\n",
    "    os.makedirs(folder, exist_ok=True)\n",
    "\n",
    "# Create files with default content\n",
    "for file_path, content in files.items():\n",
    "    with open(file_path, \"w\") as f:\n",
    "        f.write(content)\n",
    "\n",
    "# Create virtual environment\n",
    "venv_path = \"venv\"\n",
    "if not os.path.exists(venv_path):\n",
    "    print(\"Creating virtual environment...\")\n",
    "    subprocess.run([\"python\", \"-m\", \"venv\", venv_path])\n",
    "\n",
    "# Install dependencies if requirements.txt exists\n",
    "requirements_path = \"requirements.txt\"\n",
    "if os.path.exists(requirements_path) and os.path.getsize(requirements_path) > 0:\n",
    "    print(\"Installing dependencies...\")\n",
    "    subprocess.run([os.path.join(venv_path, \"Scripts\", \"python\"), \"-m\", \"pip\", \"install\", \"-r\", requirements_path])\n",
    "\n",
    "# Initialize Git repository\n",
    "if not os.path.exists(\".git\"):\n",
    "    print(\"Initializing Git repository...\")\n",
    "    subprocess.run([\"git\", \"init\"])\n",
    "\n",
    "print(\"✅ Project setup complete!\")\n"
   ]
  }
 ],
 "metadata": {
  "kernelspec": {
   "display_name": "Python 3",
   "language": "python",
   "name": "python3"
  },
  "language_info": {
   "codemirror_mode": {
    "name": "ipython",
    "version": 3
   },
   "file_extension": ".py",
   "mimetype": "text/x-python",
   "name": "python",
   "nbconvert_exporter": "python",
   "pygments_lexer": "ipython3",
   "version": "3.10.11"
  }
 },
 "nbformat": 4,
 "nbformat_minor": 2
}
