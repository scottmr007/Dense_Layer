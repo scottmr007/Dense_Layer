{
 "cells": [
  {
   "cell_type": "markdown",
   "metadata": {},
   "source": [
    "## The Forward Pass, or how the NFL Beat AI to the Punch by Decades\n",
    "OK, not exactly, but the NFL did officially recognize the forward pass in 1906, and Frank Rosenblatt’s Perceptron didn’t come about until 1958. Initially, without seeing how the data changes after the matrix multiplication and the application of weights and biases (the forward pass), it can be hard to distinguish the before and after of the forward pass. We know it happens but sometimes that just isn’t good enough.  <br> </br>\n",
    "The typical workflow for building a neural network would be: \\\n",
    "    1. **Data Generation or Loading**: Start by preparing your dataset, whether it’s through random generation or loading from an external source. We’ll be generating our own code. \\\n",
    "    2. **Data Preprocessing**: This is usually the step where you clean, normalize, or prepare the data for training (not covered here). \\\n",
    "    3. **Define the Neural Network**: Define your layers, activation functions, etc. \\\n",
    "    4. **Forward Pass**: Pass the data through the network to get the output. \\\n",
    "    5. **Loss Function, Backpropagation**: Compute the loss, and update weights and biases (not covered yet in this example, but necessary for training the network)."
   ]
  },
  {
   "cell_type": "markdown",
   "metadata": {},
   "source": []
  }
 ],
 "metadata": {
  "language_info": {
   "name": "python"
  }
 },
 "nbformat": 4,
 "nbformat_minor": 2
}
